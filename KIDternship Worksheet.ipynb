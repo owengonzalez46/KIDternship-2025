{
 "cells": [
  {
   "cell_type": "markdown",
   "id": "53dd3b46",
   "metadata": {},
   "source": [
    "# MineMart: Building a Database-Driven Store for Minecraft\n",
    "\n",
    "Today, you are the proud owner of the very first Minecraft store! In this class, we'll help you set up your database to easily track your inventory. "
   ]
  },
  {
   "cell_type": "markdown",
   "id": "c14235f8",
   "metadata": {},
   "source": [
    "First, we need to import all the necessary libraries to run our code.\n",
    "\n",
    "##### What is a library? \n",
    "In programming, libraries are collections of pre-written code that developers can use to perform specific tasks more efficiently."
   ]
  },
  {
   "cell_type": "code",
   "execution_count": null,
   "id": "75abb96e",
   "metadata": {},
   "outputs": [],
   "source": [
    "import requests\n",
    "import uuid\n",
    "import json"
   ]
  },
  {
   "cell_type": "markdown",
   "id": "b3bd0422",
   "metadata": {},
   "source": [
    "Next, we need to set up some global variables.\n",
    "\n",
    "##### What is a global variable?\n",
    "In computer programming, a global variable is a variable that can be accessed by any part of a program. In our case, any code blocks on this page will be able to use these variables. This is achieved using the `%store` function, which saves the variable in memory."
   ]
  },
  {
   "cell_type": "code",
   "execution_count": null,
   "id": "74544ef4",
   "metadata": {},
   "outputs": [],
   "source": [
    "contextRoot = 'https://api-kidternship.thegonzalezes.io'\n",
    "%store contextRoot\n",
    "\n",
    "runQueryUrl = contextRoot + '/run-query'\n",
    "%store runQueryUrl"
   ]
  },
  {
   "cell_type": "markdown",
   "id": "94110504",
   "metadata": {},
   "source": [
    "At your seat, you should find a paper with a username, password, and table name. Please enter the information provided where is says `<insert-username-here>`, `<insert-password-here>`, and `<insert-table-name-here>`"
   ]
  },
  {
   "cell_type": "code",
   "execution_count": null,
   "id": "c03db8ff",
   "metadata": {},
   "outputs": [],
   "source": [
    "username = '<insert-username-here>'\n",
    "%store username\n",
    "\n",
    "password = '<insert-password-here>'\n",
    "%store password\n",
    "\n",
    "tableName = '<insert-table-name-here>'\n",
    "%store tableName"
   ]
  },
  {
   "cell_type": "markdown",
   "id": "c630479a",
   "metadata": {},
   "source": [
    "Now that we've finished the set up, let's jump into the meat and potatoes of this class!\n",
    "\n",
    "## What is a Database?\n",
    "\n",
    "A database is like a super-organized digital notebook that stores lots of information so it’s easy to find, change, or add new stuff. Imagine a big binder full of folders—each folder holds related facts, like the name of a product, how much a product you have, or how much a product costs, and you can look things up fast just by asking the right question."
   ]
  },
  {
   "cell_type": "markdown",
   "id": "58762e0d",
   "metadata": {},
   "source": [
    "Usually, we'll start with a blank database.\n",
    "\n",
    "Let's start by adding data to a database. To do this we'll need to use\n",
    "\n",
    "### INSERT Statements\n",
    "\n",
    "An INSERT statement is like adding a new page of information to your database notebook. It tells the database exactly what new data to save and where to put it, like writing a product's name and cost into the right folder.\n",
    "\n",
    "An INSERT statement is written like this:\n",
    "\n",
    "`INSERT INTO public.tableName (column1, column2, column3) VALUES ('value1', 'value2', 'value3')`\n",
    "\n",
    "Let's create an INSERT statement for the table name: `public.storeowners`\n",
    "\n",
    "The columns it takes in are `name`, `color`, and `animal`\n",
    "\n",
    "In the next box, update the given INSERT statement to add a row to `public.storeowners` with your name, favorite animal, and favorite color.\n",
    "\n",
    "###### *Pro TIP: Make sure to leave the `'` around your values to let the database know you are passing in a value.*"
   ]
  },
  {
   "cell_type": "code",
   "execution_count": null,
   "id": "7abc0f71",
   "metadata": {},
   "outputs": [],
   "source": [
    "query = \"INSERT INTO public.storeowners (name, color, animal) VALUES ('value1', 'value2', 'value3')\"\n",
    "\n",
    "sqlQuery = {'query': query}\n",
    "\n",
    "response = requests.post(runQueryUrl, json = sqlQuery)\n",
    "\n",
    "print('Response Message: ' + str(response.json().get('message')))"
   ]
  },
  {
   "cell_type": "markdown",
   "id": "f365877f",
   "metadata": {},
   "source": [
    "#### What is a \"Primary Key\"?\n",
    "\n",
    "A primary key is a special piece of information in a database that makes each record unique, like a student ID number that only one person can have. It helps the database keep everything organized so it doesn’t mix up people or items that have similar names. Without a primary key, it would be hard to tell things apart!"
   ]
  },
  {
   "cell_type": "markdown",
   "id": "556f8b2e",
   "metadata": {},
   "source": [
    "Now copy the INSERT statement you previously created and add a `-` to the end of your first name followed by 4 random numbers.\n",
    "\n",
    "In the response message, do you get `Duplicate Primary Key Entry` or `success`?"
   ]
  },
  {
   "cell_type": "code",
   "execution_count": null,
   "id": "c7255c3d",
   "metadata": {},
   "outputs": [],
   "source": [
    "query = \"<insert-copied-statement>\"\n",
    "\n",
    "sqlQuery = {'query': query}\n",
    "\n",
    "response = requests.post(runQueryUrl, json = sqlQuery)\n",
    "\n",
    "print('Response Message: ' + str(response.json().get('message')))"
   ]
  },
  {
   "cell_type": "markdown",
   "id": "c65e3c9e",
   "metadata": {},
   "source": [
    "Now, it's time to apply what we just learned to your store's table!\n",
    "\n",
    "#### 🎉 Add three new products! 🎉\n",
    "\n",
    "In the code block below, use what we just learned about INSERT statements to create three INSERT statements for three new products your store offers. \n",
    "\n",
    "Remember:\n",
    "`INSERT INTO public.tableName (column1, column2, column3) VALUES ('value1', 'value2', 'value3')`\n",
    "\n",
    "- Your table name is written in the global variable above\n",
    "- The columns for your table are `product`, `quantity`, and `price`\n",
    "- The `product` column is the primary key so make sure each of your products has a unique name"
   ]
  },
  {
   "cell_type": "code",
   "execution_count": null,
   "id": "8982cc91",
   "metadata": {},
   "outputs": [],
   "source": [
    "query = \"<insert-statement-for-poduct-one-here>\"\n",
    "\n",
    "sqlQuery = {'query': query, 'username': username, 'password': password}\n",
    "\n",
    "response = requests.post(runQueryUrl, json = sqlQuery)\n",
    "\n",
    "print('Response Message: ' + str(response.json().get('message')))"
   ]
  },
  {
   "cell_type": "code",
   "execution_count": null,
   "id": "65cf789d",
   "metadata": {},
   "outputs": [],
   "source": [
    "query = \"<insert-statement-for-poduct-two-here>\"\n",
    "\n",
    "sqlQuery = {'query': query, 'username': username, 'password': password}\n",
    "\n",
    "response = requests.post(runQueryUrl, json = sqlQuery)\n",
    "\n",
    "print('Response Message: ' + str(response.json().get('message')))"
   ]
  },
  {
   "cell_type": "code",
   "execution_count": null,
   "id": "78fdfab2",
   "metadata": {},
   "outputs": [],
   "source": [
    "query = \"<insert-statement-for-poduct-three-here>\"\n",
    "\n",
    "sqlQuery = {'query': query, 'username': username, 'password': password}\n",
    "\n",
    "response = requests.post(runQueryUrl, json = sqlQuery)\n",
    "\n",
    "print('Response Message: ' + str(response.json().get('message')))"
   ]
  },
  {
   "cell_type": "markdown",
   "id": "c3b9801a",
   "metadata": {},
   "source": [
    "Now that we have data in our database, we need to learn how to retrieve the data. To do this we'll need to use\n",
    "\n",
    "### SELECT Statements\n",
    "\n",
    "A SELECT statement is like asking the database a question to find the information you need. It helps you pick out specific data, like all the products available for purchase or the quantaties of each product, from the big collection stored in the database.\n",
    "\n",
    "A SELECT statement is written like this:\n",
    "\n",
    "`SELECT column1, column2, ... FROM public.tableName WHERE condition`\n",
    "\n",
    "Let's start with a basic SELECT statement on the table `public.storeOwners`\n",
    "\n",
    "With the query `SELECT columnName FROM public.tableName` we are able to return the values for column1 for all the rows in a given table. \n",
    "\n",
    "In the code block below, you have a SELECT query. Update the SELECT query to pull all the information for a given column. Rmemeber for `public.storeowners` we only have columns `name`, `color`, and `animal`."
   ]
  },
  {
   "cell_type": "code",
   "execution_count": null,
   "id": "50fcc6fb",
   "metadata": {},
   "outputs": [],
   "source": [
    "query = \"SELECT <column-name> FROM public.storeowners\"\n",
    "\n",
    "sqlQuery = {'query': query}\n",
    "\n",
    "response = requests.post(runQueryUrl, json = sqlQuery)\n",
    "\n",
    "print('Response Message: ' + str(response.json().get('message')))"
   ]
  },
  {
   "cell_type": "markdown",
   "id": "29f8e586",
   "metadata": {},
   "source": [
    "Let's try and pull all the products in your store's database!\n",
    "\n",
    "#### 🎉 View the inventory your store has! 🎉\n",
    "\n",
    "In the code block below, use what we just learned about SELECT statements to create three INSERT statements for three new products your store offers. \n",
    "\n",
    "Remember: `SELECT columnName FROM public.tableName`\n",
    "\n",
    "- Your store's table name is written in the global variable above\n",
    "- To see what products you have in your store's table, you'll need to use the column name is `product`"
   ]
  },
  {
   "cell_type": "code",
   "execution_count": null,
   "id": "af4d004b",
   "metadata": {},
   "outputs": [],
   "source": [
    "query = \"<insert-select-statement>\"\n",
    "\n",
    "sqlQuery = {'query': query, 'username': username, 'password': password}\n",
    "\n",
    "response = requests.post(runQueryUrl, json = sqlQuery)\n",
    "\n",
    "print('Response Message: ' + str(response.json().get('message')))"
   ]
  },
  {
   "cell_type": "markdown",
   "id": "e7dc16cf",
   "metadata": {},
   "source": [
    "#### 🎉 Use SELECT to find out more information about certain items! 🎉\n",
    "\n",
    "In the code block below, update the query to find out more information about certain products. \n",
    "\n",
    "`SELECT columnName FROM public.tableName WHERE columnName='value'`\n",
    "\n",
    "- Your store's table name is written in the global variable above\n",
    "- The column name we'll be using to learn more about a given product is `product`\n",
    "- Columns we can search for are `quantiy` or `price`"
   ]
  },
  {
   "cell_type": "code",
   "execution_count": null,
   "id": "c65fa4c0",
   "metadata": {},
   "outputs": [],
   "source": [
    "query = \"SELECT <column-name> FROM public.<table-name> WHERE product='<product-name>'\"\n",
    "\n",
    "sqlQuery = {'query': query, 'username': username, 'password': password}\n",
    "\n",
    "response = requests.post(runQueryUrl, json = sqlQuery)\n",
    "\n",
    "print('Response Message: ' + str(response.json().get('message')))"
   ]
  },
  {
   "cell_type": "markdown",
   "id": "d9f49a72",
   "metadata": {},
   "source": [
    "You might be asking yourself is there an easier way to see EVERYTHING in a given table?\n",
    "\n",
    "And the answer is YES!\n",
    "\n",
    "#### 🎉 Let's try an get all the information available in our table! 🎉\n",
    "\n",
    "`SELECT * FROM public.tableName`\n",
    "\n",
    "This query allows us to return all the columns and rows in a specified table all at once!\n",
    "\n",
    "*Remember to update `<table-name>` to the tableName saved in the global variables!*"
   ]
  },
  {
   "cell_type": "code",
   "execution_count": null,
   "id": "d0178b75",
   "metadata": {},
   "outputs": [],
   "source": [
    "query = \"SELECT * FROM public.<table-name>\"\n",
    "\n",
    "sqlQuery = {'query': query, 'username': username, 'password': password}\n",
    "\n",
    "response = requests.post(runQueryUrl, json = sqlQuery)\n",
    "\n",
    "print('Response Message: ' + str(response.json().get('message')))"
   ]
  },
  {
   "cell_type": "markdown",
   "id": "7fa01be7",
   "metadata": {},
   "source": [
    "So, we know how to add inventory. We know how to view our inventory. But, what happens when a customer buys something? How do we modify our inventory?\n",
    "\n",
    "Well to modify any given row in a table you need to use\n",
    "\n",
    "### UPDATE Statements\n",
    "\n",
    "An UPDATE statement is used to change existing information in a database, like fixing a typo or increase the price of a given product. It tells the database exactly what to change and where to find it.\n",
    "\n",
    "An UPDATE statement is written like this:\n",
    "\n",
    "`UPDATE public.tableName SET columnNameBeingUpdated = newValue WHERE columnName='value'`\n",
    "\n",
    "Let's try this out by accounting for your first sale!\n",
    "\n",
    "#### 🎉 You made your first sale! 🎉\n",
    "\n",
    "Your first customer bought one dirt block! Yay! In the code block below, use an UPDATE the query to decrease the row for Dirt Block by one. \n",
    "\n",
    "Things you'll need to change in the following code block:\n",
    "\n",
    "- Your store's table name is written in the global variable above\n",
    "- We'll be updating the column `quantity` \n",
    "- Look at the previous result for Dirt Block, how many Dirt Blocks did you have? Take that number and subtract by one\n",
    "- Column we will use to find the row we want to update will be `product` and it should be equal to the name of the product we want to update which is `Dirt Block`"
   ]
  },
  {
   "cell_type": "code",
   "execution_count": null,
   "id": "195f5d7a",
   "metadata": {},
   "outputs": [],
   "source": [
    "query = \"UPDATE public.<table-name> SET quantity = '<updated-quantity>' WHERE product = 'Dirt Block'\"\n",
    "\n",
    "sqlQuery = {'query': query, 'username': username, 'password': password}\n",
    "\n",
    "response = requests.post(runQueryUrl, json = sqlQuery)\n",
    "\n",
    "print('Response Message: ' + str(response.json().get('message')))"
   ]
  },
  {
   "cell_type": "markdown",
   "id": "3a44b013",
   "metadata": {},
   "source": [
    "Now let's check that the quantity was updated using a SELECT `*` statement looking only for the product `Dirt Block`\n",
    "\n",
    "*Remember to update `<table-name>` to the tableName saved in the global variables!*"
   ]
  },
  {
   "cell_type": "code",
   "execution_count": null,
   "id": "4bacbf25",
   "metadata": {},
   "outputs": [],
   "source": [
    "query = \"SELECT * FROM public.<table-name> WHERE product = 'Dirt Block'\"\n",
    "\n",
    "sqlQuery = {'query': query, 'username': username, 'password': password}\n",
    "\n",
    "response = requests.post(runQueryUrl, json = sqlQuery)\n",
    "\n",
    "print('Response Message: ' + str(response.json().get('message')))"
   ]
  },
  {
   "cell_type": "markdown",
   "id": "0c211b59",
   "metadata": {},
   "source": [
    "But now what would happen if we sell out? Do we just set the inventory to 0 and call it a day?\n",
    "\n",
    "Good practice tells us to clean up any unneeded rows from our tables.\n",
    "\n",
    "In order to do this you'll need to use\n",
    "\n",
    "### DELETE Statements\n",
    "\n",
    "A DELETE statement is used to remove information from a database, like erasing product that got sold out. It tells the database what data to get rid of so it’s no longer stored or shown.\n",
    "\n",
    "A DELETE statement is written like this:\n",
    "\n",
    "`DELETE FROM public.tableName WHERE columnName='value'`\n",
    "\n",
    "Let's try this out! \n",
    "\n",
    "#### 🎉 A customer bought a Diamond Sword! 🎉\n",
    "\n",
    "Someone bought a Diamond Sword from your store! Your inventory shows you only have one Diamond Sword so rather than setting the quantity to 0, we need to clean up and remove that from our inventory list. To do this let's use the following code block.\n",
    "\n",
    "- Note that the columnName we are using to identify the row we need to delete is product which we are equaling to `Diamond Sword`\n",
    "\n",
    "*Remember to update `<table-name>` to the tableName saved in the global variables!*"
   ]
  },
  {
   "cell_type": "code",
   "execution_count": null,
   "id": "84291755",
   "metadata": {},
   "outputs": [],
   "source": [
    "query = \"DELETE FROM public.<table-name> WHERE product = 'Diamond Sword'\"\n",
    "\n",
    "sqlQuery = {'query': query, 'username': username, 'password': password}\n",
    "\n",
    "response = requests.post(runQueryUrl, json = sqlQuery)\n",
    "\n",
    "print('Response Message: ' + str(response.json().get('message')))"
   ]
  },
  {
   "cell_type": "markdown",
   "id": "0321c0b6",
   "metadata": {},
   "source": [
    "Now let's check that the row no longer exists by using a SELECT `*` statement on your entire table.\n",
    "\n",
    "*Remember to update `<table-name>` to the tableName saved in the global variables!*"
   ]
  },
  {
   "cell_type": "code",
   "execution_count": null,
   "id": "16c53a33",
   "metadata": {},
   "outputs": [],
   "source": [
    "query = \"SELECT * FROM public.<table-name>\"\n",
    "\n",
    "sqlQuery = {'query': query, 'username': username, 'password': password}\n",
    "\n",
    "response = requests.post(runQueryUrl, json = sqlQuery)\n",
    "\n",
    "print('Response Message: ' + str(response.json().get('message')))"
   ]
  },
  {
   "cell_type": "markdown",
   "id": "c2e0fe3d",
   "metadata": {},
   "source": [
    "#### Congratulations! You know now all there is to maintaining a database for your Minecraft Store! 🎉"
   ]
  }
 ],
 "metadata": {
  "kernelspec": {
   "display_name": "Python 3 (ipykernel)",
   "language": "python",
   "name": "python3"
  },
  "language_info": {
   "codemirror_mode": {
    "name": "ipython",
    "version": 3
   },
   "file_extension": ".py",
   "mimetype": "text/x-python",
   "name": "python",
   "nbconvert_exporter": "python",
   "pygments_lexer": "ipython3",
   "version": "3.13.5"
  }
 },
 "nbformat": 4,
 "nbformat_minor": 5
}
